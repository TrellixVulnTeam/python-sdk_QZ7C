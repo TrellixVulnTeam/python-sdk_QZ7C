{
 "cells": [
  {
   "cell_type": "code",
   "execution_count": 4,
   "id": "70bd84c3",
   "metadata": {},
   "outputs": [],
   "source": [
    "import os\n",
    "import pandas as pd\n",
    "\n",
    "from moonsense.client import Client\n",
    "from moonsense.pd import read_accelerometer"
   ]
  },
  {
   "cell_type": "code",
   "execution_count": 5,
   "id": "44f283f4",
   "metadata": {},
   "outputs": [],
   "source": [
    "session_id = \"56EG7i6zdf3qoxRznXZfGd\""
   ]
  },
  {
   "cell_type": "code",
   "execution_count": null,
   "id": "0ec34426",
   "metadata": {},
   "outputs": [],
   "source": [
    "client = Client(os.environ[\"MOONSENSE_SECRET_TOKEN\"])\n",
    "client.whoami()"
   ]
  },
  {
   "cell_type": "code",
   "execution_count": null,
   "id": "23da4128",
   "metadata": {},
   "outputs": [],
   "source": [
    "client.describe_session(session_id)"
   ]
  },
  {
   "cell_type": "code",
   "execution_count": null,
   "id": "eb93cb92",
   "metadata": {},
   "outputs": [],
   "source": [
    "client.download_session(session_id, f\"data/{session_id}.json\")\n",
    "os.path.getsize(f\"data/{session_id}.json\")"
   ]
  },
  {
   "cell_type": "code",
   "execution_count": 6,
   "id": "38ed37c0",
   "metadata": {},
   "outputs": [],
   "source": [
    "df = read_accelerometer(f\"data/{session_id}.json\")"
   ]
  },
  {
   "cell_type": "code",
   "execution_count": 7,
   "id": "25bdf9a3",
   "metadata": {},
   "outputs": [
    {
     "data": {
      "text/plain": [
       "<AxesSubplot:xlabel='at'>"
      ]
     },
     "execution_count": 7,
     "metadata": {},
     "output_type": "execute_result"
    },
    {
     "data": {
      "image/png": "[encoded data removed]",
      "text/plain": [
       "<Figure size 432x288 with 1 Axes>"
      ]
     },
     "metadata": {
      "needs_background": "light"
     },
     "output_type": "display_data"
    }
   ],
   "source": [
    "df.plot()"
   ]
  }
 ],
 "metadata": {
  "kernelspec": {
   "display_name": "Python 3",
   "language": "python",
   "name": "python3"
  },
  "language_info": {
   "codemirror_mode": {
    "name": "ipython",
    "version": 3
   },
   "file_extension": ".py",
   "mimetype": "text/x-python",
   "name": "python",
   "nbconvert_exporter": "python",
   "pygments_lexer": "ipython3",
   "version": "3.9.7"
  }
 },
 "nbformat": 4,
 "nbformat_minor": 5
}
